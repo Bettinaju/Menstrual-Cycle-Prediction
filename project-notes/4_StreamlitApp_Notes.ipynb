{
 "cells": [
  {
   "cell_type": "markdown",
   "id": "d13374d6-bacf-45f9-bf9c-7da3c5c72bf2",
   "metadata": {},
   "source": [
    "# Streamlit App Implementation"
   ]
  },
  {
   "cell_type": "markdown",
   "id": "57ffde55-4a8a-4a9f-a9f6-032fbf4d3797",
   "metadata": {},
   "source": [
    "1. Streanlit App installieren `pip install streamlit`\n",
    "2. mit `touch app.py` die App-Datei im Projektordner `MenstrualCyclePredictionApp` erstellen\n",
    "3. Input Felder für das jeweilige Feature in `app.py` einfügen\n",
    "5. aufbereiten Datensatz unter `PreparedMenstruationCycleDataset.csv` speichern und ebenfalls in den Projektordner legen\n",
    "6. Datensatz in `app.py` laden\n",
    "7. Random Forest Modell anwenden\n",
    "8. bessere UI für die Blutungsstärke: Schieberegler statt einfache Input-Felder verwenden\n",
    "9. Informationsfelder mit Erklärungungen zu Bedienung der App einfügen\n",
    "10. Generelle Wordings anpassen (z.B. statt MensScore, Blutungsstärke etc.)\n",
    "11. über Streamlit Community Cloud deployen"
   ]
  },
  {
   "cell_type": "code",
   "execution_count": null,
   "id": "b56884db-8f2b-4d6c-b4aa-83d7553bf8e7",
   "metadata": {},
   "outputs": [],
   "source": []
  }
 ],
 "metadata": {
  "kernelspec": {
   "display_name": "Python 3 (ipykernel)",
   "language": "python",
   "name": "python3"
  },
  "language_info": {
   "codemirror_mode": {
    "name": "ipython",
    "version": 3
   },
   "file_extension": ".py",
   "mimetype": "text/x-python",
   "name": "python",
   "nbconvert_exporter": "python",
   "pygments_lexer": "ipython3",
   "version": "3.12.2"
  }
 },
 "nbformat": 4,
 "nbformat_minor": 5
}
